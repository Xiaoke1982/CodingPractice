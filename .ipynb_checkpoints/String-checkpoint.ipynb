{
 "cells": [
  {
   "cell_type": "markdown",
   "metadata": {
    "collapsed": true
   },
   "source": [
    "## 1. Longest Substring Without Repeating Characters"
   ]
  },
  {
   "cell_type": "markdown",
   "metadata": {},
   "source": [
    "**Problem 3**\n",
    "\n",
    "Given a string, find the length of the longest substring without repeating characters.\n",
    "\n",
    "Examples:\n",
    "\n",
    "Given \"abcabcbb\", the answer is \"abc\", which the length is 3.\n",
    "\n",
    "Given \"bbbbb\", the answer is \"b\", with the length of 1.\n",
    "\n",
    "Given \"pwwkew\", the answer is \"wke\", with the length of 3. Note that the answer must be a substring, \"pwke\" is a subsequence and not a substring."
   ]
  },
  {
   "cell_type": "markdown",
   "metadata": {},
   "source": [
    "The solution takes $O(n)$ running time"
   ]
  },
  {
   "cell_type": "code",
   "execution_count": 1,
   "metadata": {
    "collapsed": true
   },
   "outputs": [],
   "source": [
    "class Solution(object):\n",
    "    def lengthOfLongestSubstring(self, s):\n",
    "        \"\"\"\n",
    "        :type s: str\n",
    "        :rtype: int\n",
    "        \"\"\"\n",
    "        ans = 0\n",
    "        start = 0\n",
    "        usedChar = dict()\n",
    "        \n",
    "        for i in range(len(s)):\n",
    "            if s[i] in usedChar and start <= usedChar[s[i]]:\n",
    "                start = usedChar[s[i]] + 1\n",
    "                \n",
    "            else:\n",
    "                ans = max(i - start + 1, ans)\n",
    "                \n",
    "            usedChar[s[i]] = i\n",
    "                \n",
    "        return ans\n",
    "                \n",
    "                "
   ]
  },
  {
   "cell_type": "markdown",
   "metadata": {
    "collapsed": true
   },
   "source": [
    "## 2.  Longest Palindromic Substring"
   ]
  },
  {
   "cell_type": "markdown",
   "metadata": {},
   "source": [
    "**Problem 5**\n",
    "\n",
    "Given a string s, find the longest palindromic substring in s. You may assume that the maximum length of s is 1000.\n",
    "\n",
    "Example:  \n",
    "Input: \"babad\"  \n",
    "Output: \"bab\"  \n",
    "Note: \"aba\" is also a valid answer.  \n",
    "\n",
    "Example:  \n",
    "Input: \"cbbd\"  \n",
    "Output: \"bb\"  "
   ]
  },
  {
   "cell_type": "code",
   "execution_count": null,
   "metadata": {
    "collapsed": true
   },
   "outputs": [],
   "source": []
  },
  {
   "cell_type": "code",
   "execution_count": 28,
   "metadata": {
    "collapsed": true
   },
   "outputs": [],
   "source": [
    "class Solution(object):\n",
    "    def longestPalindrome(self, s):\n",
    "        \"\"\"\n",
    "        :type s: str\n",
    "        :rtype: str\n",
    "        \"\"\"\n",
    "        ans = \"\"\n",
    "        \n",
    "        for i in range(len(s)-1):\n",
    "            s1 = self.helper(s, i, i)\n",
    "            if len(s1) > len(ans):\n",
    "                ans = s1\n",
    "            \n",
    "            s2 = self.helper(s, i, i+1)\n",
    "            if len(s2) > len(ans):\n",
    "                ans = s2\n",
    "                \n",
    "        s3 = self.helper(s, len(s)-1, len(s)-1)\n",
    "        if len(s3) > len(ans):\n",
    "            ans = s3\n",
    "        \n",
    "        return ans\n",
    "                \n",
    "        \n",
    "    def helper(self, s, i, j):\n",
    "        \n",
    "        while s[i] == s[j]:\n",
    "            i -= 1\n",
    "            j += 1\n",
    "            if i < 0 or j >= len(s):\n",
    "                return s[i+1:j]\n",
    "        return s[i+1:j]\n",
    "        "
   ]
  }
 ],
 "metadata": {
  "kernelspec": {
   "display_name": "Python 2",
   "language": "python",
   "name": "python2"
  },
  "language_info": {
   "codemirror_mode": {
    "name": "ipython",
    "version": 2
   },
   "file_extension": ".py",
   "mimetype": "text/x-python",
   "name": "python",
   "nbconvert_exporter": "python",
   "pygments_lexer": "ipython2",
   "version": "2.7.11"
  }
 },
 "nbformat": 4,
 "nbformat_minor": 2
}
