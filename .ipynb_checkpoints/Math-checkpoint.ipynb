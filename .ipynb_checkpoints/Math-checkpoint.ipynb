{
 "cells": [
  {
   "cell_type": "markdown",
   "metadata": {
    "collapsed": true
   },
   "source": [
    "## 1. Reverse Integer"
   ]
  },
  {
   "cell_type": "markdown",
   "metadata": {},
   "source": [
    "** Problem 7**  \n",
    "\n",
    "Reverse digits of an integer.\n",
    "\n",
    "Example1: x = 123, return 321 \n",
    "Example2: x = -123, return -321\n",
    "\n",
    "\n",
    "**Have you thought about this?**  \n",
    "\n",
    "If the integer's last digit is 0, what should the output be? ie, cases such as 10, 100.\n",
    "\n",
    "Did you notice that the reversed integer might overflow? Assume the input is a 32-bit integer, then the reverse of 10000000003 overflows. How should you handle such cases?\n",
    "\n",
    "For the purpose of this problem, assume that your function returns 0 when the reversed integer overflows.  \n",
    "\n",
    "**Note:**\n",
    "The input is assumed to be a 32-bit signed integer. Your function should return 0 when the reversed integer overflows."
   ]
  },
  {
   "cell_type": "code",
   "execution_count": 5,
   "metadata": {
    "collapsed": true
   },
   "outputs": [],
   "source": [
    "class Solution(object):\n",
    "    def reverse(self, x):\n",
    "        \"\"\"\n",
    "        :type x: int\n",
    "        :rtype: int\n",
    "        \"\"\"\n",
    "        if x >= 0:\n",
    "            sign = 1\n",
    "        else:\n",
    "            sign = -1\n",
    "            \n",
    "        # only consider the case where x >=0\n",
    "        x = abs(x)\n",
    "        ans = 0\n",
    "        \n",
    "        while x > 0:\n",
    "            yu = x % 10\n",
    "            ans = ans * 10 + yu\n",
    "            x = x / 10\n",
    "            \n",
    "        # check if the ans is overflow\n",
    "        if ans > 2**31 - 1:\n",
    "            return 0\n",
    "            \n",
    "        return ans\n",
    "        "
   ]
  },
  {
   "cell_type": "code",
   "execution_count": null,
   "metadata": {
    "collapsed": true
   },
   "outputs": [],
   "source": []
  }
 ],
 "metadata": {
  "kernelspec": {
   "display_name": "Python [conda root]",
   "language": "python",
   "name": "conda-root-py"
  },
  "language_info": {
   "codemirror_mode": {
    "name": "ipython",
    "version": 3
   },
   "file_extension": ".py",
   "mimetype": "text/x-python",
   "name": "python",
   "nbconvert_exporter": "python",
   "pygments_lexer": "ipython3",
   "version": "3.5.2"
  }
 },
 "nbformat": 4,
 "nbformat_minor": 2
}
