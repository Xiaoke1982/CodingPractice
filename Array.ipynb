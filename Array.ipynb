{
 "cells": [
  {
   "cell_type": "markdown",
   "metadata": {
    "collapsed": true
   },
   "source": [
    "## 1. Sum"
   ]
  },
  {
   "cell_type": "markdown",
   "metadata": {},
   "source": [
    "#### 1.1 Two Sum"
   ]
  },
  {
   "cell_type": "markdown",
   "metadata": {},
   "source": [
    "**Problem 1**\n",
    "\n",
    "Given an array of integers, return indices of the two numbers such that they add up to a specific target.\n",
    "\n",
    "You may assume that each input would have exactly one solution, and you may not use the same element twice.\n",
    "\n",
    "Example:\n",
    "Given nums = [2, 7, 11, 15], target = 9,\n",
    "\n",
    "Because nums[0] + nums[1] = 2 + 7 = 9,\n",
    "return [0, 1]."
   ]
  },
  {
   "cell_type": "markdown",
   "metadata": {},
   "source": [
    "**Solution 1:**   \n",
    "The brute force solution will take $O(n^2)$ time.  \n",
    "The idea is to use hash table (dictionary in python), which takes constant time to query a data.  \n",
    "This method takes $O(n)$ time."
   ]
  },
  {
   "cell_type": "code",
   "execution_count": 1,
   "metadata": {
    "collapsed": true
   },
   "outputs": [],
   "source": [
    "# solution 1\n",
    "\n",
    "class Solution(object):\n",
    "    def twoSum(self, nums, target):\n",
    "        \"\"\"\n",
    "        :type nums: List[int]\n",
    "        :type target: int\n",
    "        :rtype: List[int]\n",
    "        \"\"\"\n",
    "        dic = dict()\n",
    "        \n",
    "        # loop through all numbers to build a dictionary\n",
    "        for num in nums:\n",
    "            if num not in dic:\n",
    "                dic[num] = 1\n",
    "            else:\n",
    "                dic[num] += 1\n",
    "                \n",
    "        # loop through all numbers again\n",
    "        for i in range(len(nums)-1):\n",
    "            sec = target - nums[i]\n",
    "            \n",
    "            # for each number, check if target-number in the dictionary\n",
    "            # if yes, then check the numbers after current number to find the solution\n",
    "            if sec in dic:\n",
    "                if sec != nums[i] or (sec == nums[i] and dic[sec] > 1):\n",
    "                    for j in range(i+1, len(nums)):\n",
    "                        if nums[j] == sec:\n",
    "                            return [i, j]\n",
    "                        \n",
    "        return [-1, -1]"
   ]
  },
  {
   "cell_type": "markdown",
   "metadata": {},
   "source": [
    "**Solution 2:**  \n",
    "Very smart implementation, also use python dictionary.  \n",
    "The running time is still $O(n)$.  \n",
    "But it is more efficient than solution 1. "
   ]
  },
  {
   "cell_type": "code",
   "execution_count": 2,
   "metadata": {
    "collapsed": true
   },
   "outputs": [],
   "source": [
    "# solution 2\n",
    "\n",
    "class Solution(object):\n",
    "    def twoSum(self, nums, target):\n",
    "        \"\"\"\n",
    "        :type nums: List[int]\n",
    "        :type target: int\n",
    "        :rtype: List[int]\n",
    "        \"\"\"\n",
    "        \n",
    "        dic = dict()\n",
    "        \n",
    "        for i in range(len(nums)):\n",
    "            if nums[i] not in dic:\n",
    "                # if the number of index i is not in the dictionary,\n",
    "                # then we store the target-number with the value i\n",
    "                dic[target - nums[i]] = i\n",
    "            else:\n",
    "                # if the number of index i is in the dictionary,\n",
    "                # then dic[number] is the index of target-number, \n",
    "                # i is the index of number\n",
    "                return dic[nums[i]], i\n",
    "\n",
    "        return -1, -1\n",
    "        "
   ]
  },
  {
   "cell_type": "markdown",
   "metadata": {
    "collapsed": true
   },
   "source": [
    "## 2. Median of Two Sorted Arrays"
   ]
  },
  {
   "cell_type": "markdown",
   "metadata": {},
   "source": [
    "**Problem 4**\n",
    "\n",
    "There are two sorted arrays nums1 and nums2 of size m and n respectively.  \n",
    "Find the median of the two sorted arrays.   \n",
    "The overall run time complexity should be $O(log (m+n))$.\n",
    "\n",
    "Example 1:  \n",
    "nums1 = [1, 3]  \n",
    "nums2 = [2]  \n",
    "The median is 2.0\n",
    "\n",
    "Example 2:  \n",
    "nums1 = [1, 2]  \n",
    "nums2 = [3, 4]  \n",
    "The median is (2 + 3)/2 = 2.5"
   ]
  },
  {
   "cell_type": "markdown",
   "metadata": {},
   "source": [
    "The solution includes a helper function get_kth() that finds the $k$th smallest number of two sorted arrays. This helper function uses recursion that takes $O(log(m+n))$ running time."
   ]
  },
  {
   "cell_type": "code",
   "execution_count": 1,
   "metadata": {
    "collapsed": true
   },
   "outputs": [],
   "source": [
    "class Solution(object):\n",
    "    def findMedianSortedArrays(self, nums1, nums2):\n",
    "        \"\"\"\n",
    "        :type nums1: List[int]\n",
    "        :type nums2: List[int]\n",
    "        :rtype: float\n",
    "        \"\"\"\n",
    "        len1 = len(nums1)\n",
    "        len2 = len(nums2)\n",
    "        \n",
    "        if (len1+len2)%2 == 0:\n",
    "            return (self.get_kth(nums1, nums2, (len1+len2)/2) + self.get_kth(nums1, nums2, (len1+len2)/2 + 1)) * 0.5\n",
    "        else:\n",
    "            return self.get_kth(nums1, nums2, (len1+len2)/2 + 1)\n",
    "        \n",
    "    def get_kth(self, nums1, nums2, k):\n",
    "        len1 = len(nums1)\n",
    "        len2 = len(nums2)\n",
    "        \n",
    "        if len1 > len2:\n",
    "            return self.get_kth(nums2, nums1, k)\n",
    "        \n",
    "        if len1 == 0:\n",
    "            return nums2[k-1]\n",
    "        \n",
    "        if k == 1:\n",
    "            return min(nums1[0], nums2[0])\n",
    "        \n",
    "        p1 = min(k/2, len1)\n",
    "        p2 = k - p1\n",
    "        \n",
    "        if nums1[p1-1] < nums2[p2-1]:\n",
    "            return self.get_kth(nums1[p1:], nums2, p2)\n",
    "        else:\n",
    "            return self.get_kth(nums1, nums2[p2:], p1)"
   ]
  },
  {
   "cell_type": "code",
   "execution_count": null,
   "metadata": {
    "collapsed": true
   },
   "outputs": [],
   "source": []
  }
 ],
 "metadata": {
  "kernelspec": {
   "display_name": "Python 2",
   "language": "python",
   "name": "python2"
  },
  "language_info": {
   "codemirror_mode": {
    "name": "ipython",
    "version": 2
   },
   "file_extension": ".py",
   "mimetype": "text/x-python",
   "name": "python",
   "nbconvert_exporter": "python",
   "pygments_lexer": "ipython2",
   "version": "2.7.11"
  }
 },
 "nbformat": 4,
 "nbformat_minor": 2
}
