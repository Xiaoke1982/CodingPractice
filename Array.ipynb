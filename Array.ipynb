{
 "cells": [
  {
   "cell_type": "markdown",
   "metadata": {
    "collapsed": true
   },
   "source": [
    "## 1. Sum"
   ]
  },
  {
   "cell_type": "markdown",
   "metadata": {},
   "source": [
    "#### 1.1 Two Sum"
   ]
  },
  {
   "cell_type": "markdown",
   "metadata": {},
   "source": [
    "Given an array of integers, return indices of the two numbers such that they add up to a specific target.\n",
    "\n",
    "You may assume that each input would have exactly one solution, and you may not use the same element twice.\n",
    "\n",
    "Example:\n",
    "Given nums = [2, 7, 11, 15], target = 9,\n",
    "\n",
    "Because nums[0] + nums[1] = 2 + 7 = 9,\n",
    "return [0, 1]."
   ]
  },
  {
   "cell_type": "markdown",
   "metadata": {},
   "source": [
    "**Solution 1:**   \n",
    "The brute force solution will take $O(n^2)$ time.  \n",
    "The idea is to use hash table (dictionary in python), which takes constant time to query a data.  \n",
    "This method takes $O(n)$ time."
   ]
  },
  {
   "cell_type": "code",
   "execution_count": 1,
   "metadata": {
    "collapsed": true
   },
   "outputs": [],
   "source": [
    "# solution 1\n",
    "\n",
    "class Solution(object):\n",
    "    def twoSum(self, nums, target):\n",
    "        \"\"\"\n",
    "        :type nums: List[int]\n",
    "        :type target: int\n",
    "        :rtype: List[int]\n",
    "        \"\"\"\n",
    "        dic = dict()\n",
    "        \n",
    "        # loop through all numbers to build a dictionary\n",
    "        for num in nums:\n",
    "            if num not in dic:\n",
    "                dic[num] = 1\n",
    "            else:\n",
    "                dic[num] += 1\n",
    "                \n",
    "        # loop through all numbers again\n",
    "        for i in range(len(nums)-1):\n",
    "            sec = target - nums[i]\n",
    "            \n",
    "            # for each number, check if target-number in the dictionary\n",
    "            # if yes, then check the numbers after current number to find the solution\n",
    "            if sec in dic:\n",
    "                if sec != nums[i] or (sec == nums[i] and dic[sec] > 1):\n",
    "                    for j in range(i+1, len(nums)):\n",
    "                        if nums[j] == sec:\n",
    "                            return [i, j]\n",
    "                        \n",
    "        return [-1, -1]"
   ]
  },
  {
   "cell_type": "markdown",
   "metadata": {},
   "source": [
    "**Solution 2:**  \n",
    "Very smart implementation, also use python dictionary.  \n",
    "The running time is still $O(n)$.  \n",
    "But it is more efficient than solution 1. "
   ]
  },
  {
   "cell_type": "code",
   "execution_count": 2,
   "metadata": {
    "collapsed": true
   },
   "outputs": [],
   "source": [
    "# solution 2\n",
    "\n",
    "class Solution(object):\n",
    "    def twoSum(self, nums, target):\n",
    "        \"\"\"\n",
    "        :type nums: List[int]\n",
    "        :type target: int\n",
    "        :rtype: List[int]\n",
    "        \"\"\"\n",
    "        \n",
    "        dic = dict()\n",
    "        \n",
    "        for i in range(len(nums)):\n",
    "            if nums[i] not in dic:\n",
    "                # if the number of index i is not in the dictionary,\n",
    "                # then we store the target-number with the value i\n",
    "                dic[target - nums[i]] = i\n",
    "            else:\n",
    "                # if the number of index i is in the dictionary,\n",
    "                # then dic[number] is the index of target-number, \n",
    "                # i is the index of number\n",
    "                return dic[nums[i]], i\n",
    "\n",
    "        return -1, -1\n",
    "        "
   ]
  },
  {
   "cell_type": "code",
   "execution_count": null,
   "metadata": {
    "collapsed": true
   },
   "outputs": [],
   "source": []
  }
 ],
 "metadata": {
  "kernelspec": {
   "display_name": "Python [conda root]",
   "language": "python",
   "name": "conda-root-py"
  },
  "language_info": {
   "codemirror_mode": {
    "name": "ipython",
    "version": 3
   },
   "file_extension": ".py",
   "mimetype": "text/x-python",
   "name": "python",
   "nbconvert_exporter": "python",
   "pygments_lexer": "ipython3",
   "version": "3.5.2"
  }
 },
 "nbformat": 4,
 "nbformat_minor": 2
}
