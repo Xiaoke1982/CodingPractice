{
 "cells": [
  {
   "cell_type": "markdown",
   "metadata": {},
   "source": [
    "## 1. Add Two Numbers"
   ]
  },
  {
   "cell_type": "markdown",
   "metadata": {
    "collapsed": true
   },
   "source": [
    "**Problem 2**\n",
    "\n",
    "You are given two **non-empty** linked lists representing two non-negative integers. The digits are stored in reverse order and each of their nodes contain a single digit. Add the two numbers and return it as a linked list.\n",
    "\n",
    "You may assume the two numbers do not contain any leading zero, except the number 0 itself.\n",
    "\n",
    "Input: (2 -> 4 -> 3) + (5 -> 6 -> 4)\n",
    "Output: 7 -> 0 -> 8"
   ]
  },
  {
   "cell_type": "code",
   "execution_count": null,
   "metadata": {
    "collapsed": true
   },
   "outputs": [],
   "source": []
  },
  {
   "cell_type": "code",
   "execution_count": 1,
   "metadata": {
    "collapsed": true
   },
   "outputs": [],
   "source": [
    "# Definition for singly-linked list.\n",
    "class ListNode(object):\n",
    "    def __init__(self, x):\n",
    "        self.val = x\n",
    "        self.next = None\n",
    "\n",
    "class Solution(object):\n",
    "    def addTwoNumbers(self, l1, l2):\n",
    "        \"\"\"\n",
    "        :type l1: ListNode\n",
    "        :type l2: ListNode\n",
    "        :rtype: ListNode\n",
    "        \"\"\"\n",
    "        dummy = ListNode(0)\n",
    "        ten = 0\n",
    "        l = dummy\n",
    "        \n",
    "        while l1 and l2:\n",
    "            s = l1.val + l2.val + ten\n",
    "            v = s % 10\n",
    "            l.next = ListNode(v)\n",
    "            \n",
    "            l1 = l1.next\n",
    "            l2 = l2.next\n",
    "            l = l.next\n",
    "            ten = s / 10\n",
    "            \n",
    "        while l1:\n",
    "            if ten == 0:\n",
    "                l.next = l1\n",
    "                return dummy.next\n",
    "            else:\n",
    "                s = l1.val + ten\n",
    "                v = s % 10\n",
    "                l.next = ListNode(v)\n",
    "                l1 = l1.next\n",
    "                l = l.next\n",
    "                ten = s / 10\n",
    "                \n",
    "        while l2:\n",
    "            if ten == 0:\n",
    "                l.next = l2\n",
    "                return dummy.next\n",
    "            else:\n",
    "                s = l2.val + ten\n",
    "                v = s % 10\n",
    "                l.next = ListNode(v)\n",
    "                l2 = l2.next\n",
    "                l = l.next\n",
    "                ten = s / 10\n",
    "                \n",
    "        if ten > 0:\n",
    "            l.next = ListNode(ten)\n",
    "        \n",
    "        return dummy.next  \n",
    "        "
   ]
  },
  {
   "cell_type": "code",
   "execution_count": null,
   "metadata": {
    "collapsed": true
   },
   "outputs": [],
   "source": []
  }
 ],
 "metadata": {
  "kernelspec": {
   "display_name": "Python [conda root]",
   "language": "python",
   "name": "conda-root-py"
  },
  "language_info": {
   "codemirror_mode": {
    "name": "ipython",
    "version": 3
   },
   "file_extension": ".py",
   "mimetype": "text/x-python",
   "name": "python",
   "nbconvert_exporter": "python",
   "pygments_lexer": "ipython3",
   "version": "3.5.2"
  }
 },
 "nbformat": 4,
 "nbformat_minor": 2
}
